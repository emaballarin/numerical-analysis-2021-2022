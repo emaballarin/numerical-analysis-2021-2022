{
 "cells": [
  {
   "cell_type": "markdown",
   "id": "9e1e6516-d181-40ab-b711-267c71a747c0",
   "metadata": {},
   "source": [
    "# Numerical Analysis *end-of-course* project (a.y. 2021/2022)\n",
    "by [Emanuele Ballarin](https://ballarin.cc) ([`emanuele@ballarin.cc`](mailto:emanuele@ballarin.cc))\n",
    "\n",
    "Eventually updated code available [on GitHub](https://github.com/emaballarin/numerical-analysis-2021-2022/tree/main/final_project)."
   ]
  },
  {
   "cell_type": "code",
   "execution_count": null,
   "id": "a0ef2ffa-2b11-4347-a5d3-4510d5c7d7e4",
   "metadata": {},
   "outputs": [],
   "source": [
    "# Actual imports\n",
    "\n",
    "%matplotlib inline\n",
    "\n",
    "import numpy as np\n",
    "import matplotlib.pyplot as plt"
   ]
  },
  {
   "cell_type": "code",
   "execution_count": null,
   "id": "b3dd9291-a411-401f-894f-d3cb2234f9dd",
   "metadata": {},
   "outputs": [],
   "source": [
    "# Typing\n",
    "from typing import Callable, Tuple\n",
    "from numpy.typing import NDArray"
   ]
  },
  {
   "cell_type": "code",
   "execution_count": null,
   "id": "ade69dd5-802e-4b40-905e-23ccfcb9abb3",
   "metadata": {},
   "outputs": [],
   "source": [
    "# Exception handling and sanity checks"
   ]
  },
  {
   "cell_type": "markdown",
   "id": "8184faab",
   "metadata": {
    "id": "8184faab"
   },
   "source": [
    "Consider the following one-dimensional PDE:\n",
    "$$\n",
    "-u_{xx}(x) = f(x)\\quad\\mathrm{ in }\\ \\Omega = (0, \\pi)\n",
    "$$\n",
    "$$\n",
    "u(x) = 0, \\quad\\mathrm{ on }\\ \\partial\\Omega = \\{0, \\pi\\}\n",
    "$$\n",
    "\n",
    "Given the following $4^{th}$ order finite difference approximation of the second order derivative:\n",
    "\n",
    "$$u_{xx}(x_i) = \\frac{-u_{i-2}+16u_{i-1}-30u_i+16u_{i+1}-u_{i+2}}{12h^2}$$\n",
    "\n",
    "Implement a function that given the domain interval, the forcing function, the number of discretization points, the boundary conditions, returns the matrix $A$ and the the right hand side $b$."
   ]
  },
  {
   "cell_type": "code",
   "execution_count": null,
   "id": "1c562f13",
   "metadata": {
    "id": "1c562f13"
   },
   "outputs": [],
   "source": [
    "def finite_difference(omega, f: Callable, n, bc) -> Tuple[NDArray, NDArray]:\n",
    "\n",
    "    # A preliminary sanity check\n",
    "    assert n > 1\n",
    "    assert len(bc) == 2\n",
    "    assert len(omega) == 2 and omega[0] < omega[-1]\n",
    "\n",
    "    # Prepare input\n",
    "    f = np.vectorize(f)\n",
    "    bc: NDArray = np.asarray(bc)\n",
    "\n",
    "    # Build b\n",
    "    b: NDArray = np.empty(n)\n",
    "    b[1:-1] = f(np.linspace(*omega, n))[1:-1]\n",
    "    b[0], b[-1] = bc[0], bc[-1]  # BCs\n",
    "\n",
    "    # Build A\n",
    "    h: NDArray = np.asarray((omega[1] - omega[0]) / n)\n",
    "    coeff_4th: NDArray = np.array([1, -16, 30]) / 12\n",
    "    coeff_2nd: NDArray = np.array([-1, 2, h**2])\n",
    "\n",
    "    a: NDArray = np.zeros((n, n))\n",
    "\n",
    "    # Proper 4th order scheme where applicable\n",
    "    i: int\n",
    "    for i in range(2, n - 2):\n",
    "        a[i, i - 2] = a[i, i + 2] = coeff_4th[0]\n",
    "        a[i, i - 1] = a[i, i + 1] = coeff_4th[1]\n",
    "        a[i, i] = coeff_4th[2]\n",
    "\n",
    "    # Fallback to 2nd order scheme where 4th not applicable\n",
    "    a[1, 0] = a[1, 2] = a[n - 2, n - 3] = a[n - 2, n - 1] = coeff_2nd[0]\n",
    "    a[1, 1] = a[n - 2, n - 2] = coeff_2nd[1]\n",
    "    a[0, 0] = a[-1, -1] = coeff_2nd[2]\n",
    "\n",
    "    a /= h**2\n",
    "\n",
    "    return a, b"
   ]
  },
  {
   "cell_type": "markdown",
   "id": "c21bb21e",
   "metadata": {
    "id": "c21bb21e"
   },
   "source": [
    "Call the function using:"
   ]
  },
  {
   "cell_type": "code",
   "execution_count": null,
   "id": "23af8831",
   "metadata": {
    "id": "23af8831"
   },
   "outputs": [],
   "source": [
    "omega = [0, np.pi]\n",
    "f = lambda x: np.sin(x)\n",
    "n = 100\n",
    "bc = [0, 0]\n",
    "a, b = finite_difference(omega, f, n, bc)"
   ]
  },
  {
   "cell_type": "markdown",
   "id": "4f8a7c6f",
   "metadata": {
    "id": "4f8a7c6f"
   },
   "source": [
    "Implement two functions that compute the LU and the Cholesky factorization of the system matrix $A$"
   ]
  },
  {
   "cell_type": "code",
   "execution_count": null,
   "id": "47468a37",
   "metadata": {
    "id": "47468a37"
   },
   "outputs": [],
   "source": [
    "def lu_decomp(a: NDArray) -> Tuple[NDArray, NDArray]:\n",
    "    adim: int = len(a)\n",
    "    \n",
    "    # Sanity check\n",
    "    assert adim > 1\n",
    "    \n",
    "    l: NDArray = np.eye(adim)\n",
    "    u: NDArray = np.copy(a)\n",
    "    i: int\n",
    "    for i in range(adim-1):\n",
    "        j: int\n",
    "        for j in range(i+1, adim):\n",
    "            l[j, i] = u[j, i] / u[i, i]\n",
    "            u[j, i:] -= l[j, i] * u[i, i:]\n",
    "    return l, u\n",
    "\n",
    "l, u = lu_decomp(a)"
   ]
  },
  {
   "cell_type": "code",
   "execution_count": null,
   "id": "193ebfed",
   "metadata": {
    "id": "193ebfed"
   },
   "outputs": [],
   "source": [
    "def chol_decomp(a: NDArray) -> Tuple[NDArray, NDArray]:\n",
    "    adim: int = len(a)\n",
    "    \n",
    "    # Sanity check\n",
    "    assert adim > 1\n",
    "    \n",
    "    l: NDArray = np.zeros((adim, adim))\n",
    "    j: int\n",
    "    for j in range(adim):\n",
    "        l[j, j] = (a[j,j] - np.sum(l[j, 0:j]**2))**0.5\n",
    "        i: int\n",
    "        for i in range(j+1, adim):\n",
    "            l[i, j] = (a[i,j] - np.sum(np.multiply(l[i, 0:j], l[j, 0:j]))) / l[j,j]\n",
    "    return l, np.transpose(l)\n",
    "\n",
    "h, ht = chol_decomp(a)"
   ]
  },
  {
   "cell_type": "markdown",
   "id": "41eb8436",
   "metadata": {
    "id": "41eb8436"
   },
   "source": [
    "Implement forward and backward substitution functions to exploit the developed factorization methods to solve the derived linear system of equations."
   ]
  },
  {
   "cell_type": "code",
   "execution_count": null,
   "id": "019cf0df",
   "metadata": {
    "id": "019cf0df"
   },
   "outputs": [],
   "source": [
    "def L_solve(l, rhs):\n",
    "    ldim = len(l)\n",
    "    \n",
    "    # Sanity checks\n",
    "    assert ldim > 1\n",
    "    assert len(rhs) == ldim\n",
    "    \n",
    "    x = np.zeros(ldim)\n",
    "    "
   ]
  },
  {
   "cell_type": "code",
   "execution_count": null,
   "id": "26ce17c4",
   "metadata": {
    "id": "26ce17c4"
   },
   "outputs": [],
   "source": [
    "def U_solve(u, rhs):\n",
    "    udim = len(u)\n",
    "\n",
    "    # Sanity checks\n",
    "    assert udim > 1\n",
    "    assert len(rhs) == udim\n",
    "\n",
    "    x = np.zeros(udim)\n",
    "    "
   ]
  },
  {
   "cell_type": "markdown",
   "id": "08ac9ba1",
   "metadata": {
    "id": "08ac9ba1"
   },
   "source": [
    "Solve the derived linear system using the implemented functions and plot the computed solution:"
   ]
  },
  {
   "cell_type": "code",
   "execution_count": null,
   "id": "7c1de4f3",
   "metadata": {
    "id": "7c1de4f3"
   },
   "outputs": [],
   "source": [
    "# TODO"
   ]
  },
  {
   "cell_type": "markdown",
   "id": "62cdfe65",
   "metadata": {
    "id": "62cdfe65"
   },
   "source": [
    "Considering the new domain $\\Omega = (0,1)$ and the forcing term $f(x) = x(1-x)$ with B.C. $u(x) = 0$, on $\\partial \\Omega = {0,1}$ produce a plot and a table where you show the decay of the error w.r.t. the number of grid points.\n",
    "(The analytical solution for the above problems is $u_{an} = \\frac{x^4}{12} - \\frac{x^3}{6} + \\frac{x}{12}$)"
   ]
  },
  {
   "cell_type": "code",
   "execution_count": null,
   "id": "91212afb",
   "metadata": {
    "id": "91212afb"
   },
   "outputs": [],
   "source": [
    "# TODO"
   ]
  },
  {
   "cell_type": "markdown",
   "id": "c8d5002f",
   "metadata": {
    "id": "c8d5002f"
   },
   "source": [
    "Exploit the derived LU factorizations to compute the condition number of the system's matrix $A$ using the original problem formulation."
   ]
  },
  {
   "cell_type": "code",
   "execution_count": null,
   "id": "c25fc1fe",
   "metadata": {
    "id": "c25fc1fe"
   },
   "outputs": [],
   "source": [
    "def condNumb(A):\n",
    "    pass  # TODO\n",
    "    return condNu"
   ]
  },
  {
   "cell_type": "markdown",
   "id": "2728b49a",
   "metadata": {
    "id": "2728b49a"
   },
   "source": [
    "Implement a preconditioned Conjugant Gradient method to solve the original linear system of equations using an iterative method:"
   ]
  },
  {
   "cell_type": "code",
   "execution_count": null,
   "id": "62b83aee",
   "metadata": {
    "id": "62b83aee"
   },
   "outputs": [],
   "source": [
    "def conjugate_gradient(A, b, P, nmax=len(A), eps=1e-10):\n",
    "    pass  # TODO"
   ]
  },
  {
   "cell_type": "markdown",
   "id": "8a4cfc02",
   "metadata": {
    "id": "8a4cfc02"
   },
   "source": [
    "Consider the following time dependent variation of the PDE starting from the orginal problem formulation:\n",
    "$$\n",
    "u'(t)-u_{xx} = \\alpha(t)f(x)\n",
    "$$\n",
    "\n",
    "for $t\\in [0,T]$, with $\\alpha(t) = \\cos(t)$ and $T = 6\\pi$\n",
    "\n",
    "Use the same finite difference scheme to derive the semi-discrete formulation and solve it using a forward Euler's method.\n",
    "\n",
    "Plot the time dependent solution solution at $x = \\pi/2$, $x=1$, \n",
    "$x=\\pi$\n"
   ]
  },
  {
   "cell_type": "code",
   "execution_count": null,
   "id": "3ffe0689",
   "metadata": {
    "id": "3ffe0689"
   },
   "outputs": [],
   "source": [
    "# TODO"
   ]
  },
  {
   "cell_type": "markdown",
   "id": "36936121",
   "metadata": {
    "id": "36936121"
   },
   "source": [
    "Given the original $Au = b$ system, implement an algorithm to compute the eigenvalues and eigenvectors of the matrix $A$. Exploit the computed LU factorization"
   ]
  },
  {
   "cell_type": "code",
   "execution_count": null,
   "id": "622aadf4",
   "metadata": {
    "id": "622aadf4"
   },
   "outputs": [],
   "source": [
    "# TODO"
   ]
  },
  {
   "cell_type": "markdown",
   "id": "85d5f64e",
   "metadata": {
    "id": "85d5f64e"
   },
   "source": [
    "Compute the inverse of the matrix A exploiting the derived LU factorization"
   ]
  },
  {
   "cell_type": "code",
   "execution_count": null,
   "id": "6ad7199f",
   "metadata": {
    "id": "6ad7199f"
   },
   "outputs": [],
   "source": [
    "# TODO"
   ]
  },
  {
   "cell_type": "markdown",
   "id": "cb22566e",
   "metadata": {
    "id": "cb22566e"
   },
   "source": [
    "Consider the following Cauchy problem\n",
    "$$\n",
    "\\begin{cases}\n",
    "y'= -ty^2 \\quad 0\\le t \\le 2\\\\\n",
    "y(0) = 1\n",
    "\\end{cases}\n",
    "$$\n",
    "Implement a Backward Euler's method in a suitable function and solve the resulting non-linear equation using a Newton's method."
   ]
  },
  {
   "cell_type": "code",
   "execution_count": null,
   "id": "3184e358",
   "metadata": {
    "id": "3184e358"
   },
   "outputs": [],
   "source": [
    "# TODO"
   ]
  }
 ],
 "metadata": {
  "colab": {
   "name": "FinalProject-2021-2022.ipynb",
   "provenance": []
  },
  "jupytext": {
   "formats": "ipynb,py:percent"
  },
  "kernelspec": {
   "display_name": "Python 3.9.13 ('RDDL')",
   "language": "python",
   "name": "python3"
  },
  "language_info": {
   "codemirror_mode": {
    "name": "ipython",
    "version": 3
   },
   "file_extension": ".py",
   "mimetype": "text/x-python",
   "name": "python",
   "nbconvert_exporter": "python",
   "pygments_lexer": "ipython3",
   "version": "3.9.13"
  },
  "vscode": {
   "interpreter": {
    "hash": "a254846949b21e7b07fb88d35b1c9d93d9e8e397acf2db30c111907ad2b4b90b"
   }
  }
 },
 "nbformat": 4,
 "nbformat_minor": 5
}
