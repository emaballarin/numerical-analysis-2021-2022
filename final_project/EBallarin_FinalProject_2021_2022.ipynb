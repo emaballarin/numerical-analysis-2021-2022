{
 "cells": [
  {
   "cell_type": "markdown",
   "id": "9e1e6516-d181-40ab-b711-267c71a747c0",
   "metadata": {},
   "source": [
    "# [Numerical Analysis](https://www.math.sissa.it/course/phd-course-master-course/numerical-analysis-2021-2022) *end-of-course* project (a.y. 2021/2022)\n",
    "by [Emanuele Ballarin](https://ballarin.cc) ([`emanuele@ballarin.cc`](mailto:emanuele@ballarin.cc))\n",
    "\n",
    "Eventually-updated code available [on GitHub](https://github.com/emaballarin/numerical-analysis-2021-2022/tree/main/final_project) or [mirrored on SourceHut](https://git.sr.ht/~emaballarin/numerical-analysis-2021-2022/tree/main/item/final_project)."
   ]
  },
  {
   "cell_type": "code",
   "execution_count": 1,
   "id": "a0ef2ffa-2b11-4347-a5d3-4510d5c7d7e4",
   "metadata": {},
   "outputs": [],
   "source": [
    "# Jupyter/IPython magics\n",
    "%matplotlib inline"
   ]
  },
  {
   "cell_type": "code",
   "execution_count": 2,
   "id": "d8a1c9cc",
   "metadata": {},
   "outputs": [],
   "source": [
    "# Module imports\n",
    "import numpy as np\n",
    "import matplotlib.pyplot as plt\n",
    "import pandas as pd"
   ]
  },
  {
   "cell_type": "code",
   "execution_count": 3,
   "id": "b3dd9291-a411-401f-894f-d3cb2234f9dd",
   "metadata": {},
   "outputs": [],
   "source": [
    "# Typing support\n",
    "from typing import Callable, Tuple\n",
    "from numpy.typing import NDArray"
   ]
  },
  {
   "cell_type": "code",
   "execution_count": 4,
   "id": "ade69dd5-802e-4b40-905e-23ccfcb9abb3",
   "metadata": {},
   "outputs": [],
   "source": [
    "# Esceptions & testing support"
   ]
  },
  {
   "cell_type": "markdown",
   "id": "8184faab",
   "metadata": {
    "id": "8184faab"
   },
   "source": [
    "Consider the following one-dimensional PDE:\n",
    "$$\n",
    "-u_{xx}(x) = f(x)\\quad\\mathrm{ in }\\ \\Omega = (0, \\pi)\n",
    "$$\n",
    "$$\n",
    "u(x) = 0, \\quad\\mathrm{ on }\\ \\partial\\Omega = \\{0, \\pi\\}\n",
    "$$\n",
    "\n",
    "Given the following $4^{th}$ order finite difference approximation of the second order derivative:\n",
    "\n",
    "$$u_{xx}(x_i) = \\frac{-u_{i-2}+16u_{i-1}-30u_i+16u_{i+1}-u_{i+2}}{12h^2}$$\n",
    "\n",
    "Implement a function that given the domain interval, the forcing function, the number of discretization points, the boundary conditions, returns the matrix $A$ and the the right hand side $b$."
   ]
  },
  {
   "cell_type": "code",
   "execution_count": 5,
   "id": "bcfe03a1",
   "metadata": {},
   "outputs": [],
   "source": [
    "from functions import finite_difference"
   ]
  },
  {
   "cell_type": "markdown",
   "id": "c21bb21e",
   "metadata": {
    "id": "c21bb21e"
   },
   "source": [
    "Call the function using:"
   ]
  },
  {
   "cell_type": "code",
   "execution_count": 6,
   "id": "23af8831",
   "metadata": {
    "id": "23af8831"
   },
   "outputs": [],
   "source": [
    "omega = [0, np.pi]\n",
    "f = lambda x: np.sin(x)\n",
    "n = 100\n",
    "bc = [0, 0]"
   ]
  },
  {
   "cell_type": "code",
   "execution_count": 7,
   "id": "f398fdd7",
   "metadata": {},
   "outputs": [],
   "source": [
    "a, b = finite_difference(omega, f, n, bc)"
   ]
  },
  {
   "cell_type": "markdown",
   "id": "4f8a7c6f",
   "metadata": {
    "id": "4f8a7c6f"
   },
   "source": [
    "Implement two functions that compute the LU and the Cholesky factorization of the system matrix $A$"
   ]
  },
  {
   "cell_type": "code",
   "execution_count": 8,
   "id": "7497d24f",
   "metadata": {},
   "outputs": [],
   "source": [
    "from functions import lu_decomp, chol_decomp"
   ]
  },
  {
   "cell_type": "markdown",
   "id": "41eb8436",
   "metadata": {
    "id": "41eb8436"
   },
   "source": [
    "Implement forward and backward substitution functions to exploit the developed factorization methods to solve the derived linear system of equations."
   ]
  },
  {
   "cell_type": "code",
   "execution_count": 9,
   "id": "08700f0e",
   "metadata": {},
   "outputs": [],
   "source": [
    "from functions import l_solve, u_solve, lu_solve"
   ]
  },
  {
   "cell_type": "markdown",
   "id": "08ac9ba1",
   "metadata": {
    "id": "08ac9ba1"
   },
   "source": [
    "Solve the derived linear system using the implemented functions and plot the computed solution:"
   ]
  },
  {
   "cell_type": "code",
   "execution_count": 10,
   "id": "6d57dc92",
   "metadata": {},
   "outputs": [
    {
     "data": {
      "image/png": "[encoded data removed]",
      "text/plain": [
       "<Figure size 432x288 with 1 Axes>"
      ]
     },
     "metadata": {
      "needs_background": "dark"
     },
     "output_type": "display_data"
    }
   ],
   "source": [
    "xs = np.linspace(0, np.pi, n)\n",
    "_ = plt.plot(xs, lu_solve(a, b))\n",
    "_ = plt.xticks(np.arange(0.0, (9/8)*np.pi, step=(np.pi/8)), ['0','π/8','π/4','3π/8','π/2','5π/8','3π/4', '7π/8', 'π'])\n",
    "_ = plt.xlabel(\"x\")\n",
    "_ = plt.ylabel(\"u(x)\")\n",
    "_ = plt.grid(alpha=0.3, which=\"both\")"
   ]
  },
  {
   "cell_type": "markdown",
   "id": "62cdfe65",
   "metadata": {
    "id": "62cdfe65"
   },
   "source": [
    "Considering the new domain $\\Omega = (0,1)$ and the forcing term $f(x) = x(1-x)$ with B.C. $u(x) = 0$, on $\\partial \\Omega = {0,1}$ produce a plot and a table where you show the decay of the error w.r.t. the number of grid points.\n",
    "(The analytical solution for the above problems is $u_{an} = \\frac{x^4}{12} - \\frac{x^3}{6} + \\frac{x}{12}$)"
   ]
  },
  {
   "cell_type": "code",
   "execution_count": 11,
   "id": "91212afb",
   "metadata": {
    "id": "91212afb"
   },
   "outputs": [],
   "source": [
    "omega_new = [0, 1]\n",
    "f_new = lambda x: x * (1 - x)\n",
    "u_analytical = np.vectorize(lambda x: x**4 / 12 - x**3/ 6 + x/ 12)\n",
    "bc_new = [0, 0]"
   ]
  },
  {
   "cell_type": "code",
   "execution_count": 12,
   "id": "5807c5c3",
   "metadata": {},
   "outputs": [],
   "source": [
    "min_n = 3\n",
    "max_n = int(1e3)\n",
    "step_n = 10\n",
    "err_linf = []\n",
    "\n",
    "for n_new in range(min_n, max_n, step_n):\n",
    "    a_new, b_new = finite_difference(omega_new, f_new, n_new, bc_new)\n",
    "    lu_sol = lu_solve(a_new, b_new)\n",
    "    xs_exact = np.linspace(omega_new[0], omega_new[1], n_new)\n",
    "    ys_exact = u_analytical(xs_exact)\n",
    "    err_linf.append(np.linalg.norm(ys_exact - lu_sol, np.inf))"
   ]
  },
  {
   "cell_type": "code",
   "execution_count": 13,
   "id": "1d84e3da",
   "metadata": {},
   "outputs": [
    {
     "data": {
      "image/png": "[encoded data removed]",
      "text/plain": [
       "<Figure size 432x288 with 1 Axes>"
      ]
     },
     "metadata": {
      "needs_background": "dark"
     },
     "output_type": "display_data"
    }
   ],
   "source": [
    "errtable = pd.DataFrame.from_dict({\"numpts\": (min_n + step_n*np.asarray(range(len(err_linf)))), \"abserror\": err_linf})\n",
    "# print(errtable)\n",
    "_ = plt.plot(errtable.numpts, errtable.abserror)\n",
    "_ = plt.yscale(\"log\")\n",
    "_ = plt.xlabel(\"discretization points\")\n",
    "_ = plt.ylabel(\"Max error w.r.t. analytical sol.\")\n",
    "_ = plt.grid(alpha=0.2, which=\"both\")"
   ]
  },
  {
   "cell_type": "markdown",
   "id": "c8d5002f",
   "metadata": {
    "id": "c8d5002f"
   },
   "source": [
    "Exploit the derived LU factorizations to compute the condition number of the system's matrix $A$ using the original problem formulation."
   ]
  },
  {
   "cell_type": "code",
   "execution_count": 14,
   "id": "98e41baa",
   "metadata": {},
   "outputs": [
    {
     "data": {
      "text/plain": [
       "5295.087852121188"
      ]
     },
     "execution_count": 14,
     "metadata": {},
     "output_type": "execute_result"
    }
   ],
   "source": [
    "from functions import condition_number\n",
    "condition_number(a)"
   ]
  },
  {
   "cell_type": "markdown",
   "id": "2728b49a",
   "metadata": {
    "id": "2728b49a"
   },
   "source": [
    "Implement a preconditioned Conjugate Gradient method to solve the original linear system of equations using an iterative method:"
   ]
  },
  {
   "cell_type": "code",
   "execution_count": 17,
   "id": "62b83aee",
   "metadata": {
    "id": "62b83aee"
   },
   "outputs": [],
   "source": [
    "def conjugate_gradient(a, b, P, nmax=len(a), eps=1e-10):\n",
    "    pass  # TODO"
   ]
  },
  {
   "cell_type": "markdown",
   "id": "8a4cfc02",
   "metadata": {
    "id": "8a4cfc02"
   },
   "source": [
    "Consider the following time dependent variation of the PDE starting from the orginal problem formulation:\n",
    "$$\n",
    "u'(t)-u_{xx} = \\alpha(t)f(x)\n",
    "$$\n",
    "\n",
    "for $t\\in [0,T]$, with $\\alpha(t) = \\cos(t)$ and $T = 6\\pi$\n",
    "\n",
    "Use the same finite difference scheme to derive the semi-discrete formulation and solve it using a forward Euler's method.\n",
    "\n",
    "Plot the time dependent solution solution at $x = \\pi/2$, $x=1$, \n",
    "$x=\\pi$\n"
   ]
  },
  {
   "cell_type": "code",
   "execution_count": null,
   "id": "3ffe0689",
   "metadata": {
    "id": "3ffe0689"
   },
   "outputs": [],
   "source": [
    "# TODO"
   ]
  },
  {
   "cell_type": "markdown",
   "id": "36936121",
   "metadata": {
    "id": "36936121"
   },
   "source": [
    "Given the original $Au = b$ system, implement an algorithm to compute the eigenvalues and eigenvectors of the matrix $A$. Exploit the computed LU factorization"
   ]
  },
  {
   "cell_type": "code",
   "execution_count": null,
   "id": "622aadf4",
   "metadata": {
    "id": "622aadf4"
   },
   "outputs": [],
   "source": [
    "# TODO"
   ]
  },
  {
   "cell_type": "markdown",
   "id": "85d5f64e",
   "metadata": {
    "id": "85d5f64e"
   },
   "source": [
    "Compute the inverse of the matrix A exploiting the derived LU factorization"
   ]
  },
  {
   "cell_type": "code",
   "execution_count": null,
   "id": "6ad7199f",
   "metadata": {
    "id": "6ad7199f"
   },
   "outputs": [],
   "source": [
    "# TODO"
   ]
  },
  {
   "cell_type": "markdown",
   "id": "cb22566e",
   "metadata": {
    "id": "cb22566e"
   },
   "source": [
    "Consider the following Cauchy problem\n",
    "$$\n",
    "\\begin{cases}\n",
    "y'= -ty^2 \\quad 0\\le t \\le 2\\\\\n",
    "y(0) = 1\n",
    "\\end{cases}\n",
    "$$\n",
    "Implement a Backward Euler's method in a suitable function and solve the resulting non-linear equation using a Newton's method."
   ]
  },
  {
   "cell_type": "code",
   "execution_count": null,
   "id": "3184e358",
   "metadata": {
    "id": "3184e358"
   },
   "outputs": [],
   "source": [
    "# TODO"
   ]
  }
 ],
 "metadata": {
  "colab": {
   "name": "FinalProject-2021-2022.ipynb",
   "provenance": []
  },
  "jupytext": {
   "formats": "ipynb,py:percent"
  },
  "kernelspec": {
   "display_name": "Python 3.9.13 ('RDDL')",
   "language": "python",
   "name": "python3"
  },
  "language_info": {
   "codemirror_mode": {
    "name": "ipython",
    "version": 3
   },
   "file_extension": ".py",
   "mimetype": "text/x-python",
   "name": "python",
   "nbconvert_exporter": "python",
   "pygments_lexer": "ipython3",
   "version": "3.9.13"
  },
  "vscode": {
   "interpreter": {
    "hash": "a254846949b21e7b07fb88d35b1c9d93d9e8e397acf2db30c111907ad2b4b90b"
   }
  }
 },
 "nbformat": 4,
 "nbformat_minor": 5
}
